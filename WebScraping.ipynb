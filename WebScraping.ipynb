{
  "nbformat": 4,
  "nbformat_minor": 0,
  "metadata": {
    "colab": {
      "provenance": [],
      "authorship_tag": "ABX9TyPzbzcr/fIfKVU9agmrZZ8k",
      "include_colab_link": true
    },
    "kernelspec": {
      "name": "python3",
      "display_name": "Python 3"
    },
    "language_info": {
      "name": "python"
    }
  },
  "cells": [
    {
      "cell_type": "markdown",
      "metadata": {
        "id": "view-in-github",
        "colab_type": "text"
      },
      "source": [
        "<a href=\"https://colab.research.google.com/github/Azyyz77/Td_Python_WebScraping/blob/main/WebScraping.ipynb\" target=\"_parent\"><img src=\"https://colab.research.google.com/assets/colab-badge.svg\" alt=\"Open In Colab\"/></a>"
      ]
    },
    {
      "cell_type": "code",
      "execution_count": null,
      "metadata": {
        "colab": {
          "base_uri": "https://localhost:8080/",
          "height": 106
        },
        "id": "gHUAoIV9XzXQ",
        "outputId": "26109b0f-60a6-4a31-f9a6-dd330d922740"
      },
      "outputs": [
        {
          "output_type": "error",
          "ename": "IndentationError",
          "evalue": "unindent does not match any outer indentation level (<tokenize>, line 4)",
          "traceback": [
            "\u001b[0;36m  File \u001b[0;32m\"<tokenize>\"\u001b[0;36m, line \u001b[0;32m4\u001b[0m\n\u001b[0;31m    if __name__ == \"__main__\":\u001b[0m\n\u001b[0m    ^\u001b[0m\n\u001b[0;31mIndentationError\u001b[0m\u001b[0;31m:\u001b[0m unindent does not match any outer indentation level\n"
          ]
        }
      ],
      "source": [
        "def main():\n",
        "    print('Hello world!')\n",
        "\n",
        " if __name__ == \"__main__\":\n",
        "    main()"
      ]
    },
    {
      "cell_type": "code",
      "source": [
        "def main():\n",
        "    print('Hello world!')\n",
        "\n",
        "if __name__ == \"__main__\": # Fixed: Indentation aligned with 'def main():'\n",
        "    main()"
      ],
      "metadata": {
        "colab": {
          "base_uri": "https://localhost:8080/"
        },
        "id": "VTPLjEtLYK3n",
        "outputId": "167039ce-79e6-4e09-d9f9-1611fdeb2768"
      },
      "execution_count": null,
      "outputs": [
        {
          "output_type": "stream",
          "name": "stdout",
          "text": [
            "Hello world!\n"
          ]
        }
      ]
    },
    {
      "cell_type": "code",
      "source": [
        "!python -m venv .venv"
      ],
      "metadata": {
        "colab": {
          "base_uri": "https://localhost:8080/"
        },
        "id": "-tYNYpvXYNcn",
        "outputId": "642d687e-21de-4aa1-c1f1-79a06ebe9d7c"
      },
      "execution_count": null,
      "outputs": [
        {
          "output_type": "stream",
          "name": "stdout",
          "text": [
            "Error: Command '['/content/.venv/bin/python3', '-m', 'ensurepip', '--upgrade', '--default-pip']' returned non-zero exit status 1.\n"
          ]
        }
      ]
    },
    {
      "cell_type": "code",
      "source": [
        "!.\\.venv\\Scripts\\activate"
      ],
      "metadata": {
        "colab": {
          "base_uri": "https://localhost:8080/"
        },
        "id": "rbVQxMl9YYqn",
        "outputId": "ebc21d95-9f20-4b7a-e3a2-c968986e0af4"
      },
      "execution_count": null,
      "outputs": [
        {
          "output_type": "stream",
          "name": "stdout",
          "text": [
            "/bin/bash: line 1: ..venvScriptsactivate: command not found\n"
          ]
        }
      ]
    },
    {
      "cell_type": "code",
      "source": [
        "!python scraper.py"
      ],
      "metadata": {
        "colab": {
          "base_uri": "https://localhost:8080/"
        },
        "id": "8jc1NOw_YeJn",
        "outputId": "0d4ba35f-ee57-4578-9570-9e01992e2c52"
      },
      "execution_count": null,
      "outputs": [
        {
          "output_type": "stream",
          "name": "stdout",
          "text": [
            "python3: can't open file '/content/scraper.py': [Errno 2] No such file or directory\n"
          ]
        }
      ]
    },
    {
      "cell_type": "code",
      "source": [
        "def main():\n",
        "  url = \"https://news.ycombinator.com/item?id=42919502\"\n",
        "  print(f\"Scraping: {url}\")\n",
        "\n",
        "if __name__ == \"__main__\":\n",
        "  main()"
      ],
      "metadata": {
        "colab": {
          "base_uri": "https://localhost:8080/"
        },
        "id": "Jz-EvdqDYlDv",
        "outputId": "4a2868c8-759c-4e75-fb48-a893c7e8e299"
      },
      "execution_count": null,
      "outputs": [
        {
          "output_type": "stream",
          "name": "stdout",
          "text": [
            "Scraping: https://news.ycombinator.com/item?id=42919502\n"
          ]
        }
      ]
    },
    {
      "cell_type": "code",
      "source": [
        "pip install requests"
      ],
      "metadata": {
        "colab": {
          "base_uri": "https://localhost:8080/"
        },
        "id": "7fw9yOAuYnzu",
        "outputId": "5f8574c5-b534-42c6-9bec-7c3176fdb2c6"
      },
      "execution_count": null,
      "outputs": [
        {
          "output_type": "stream",
          "name": "stdout",
          "text": [
            "Requirement already satisfied: requests in /usr/local/lib/python3.11/dist-packages (2.32.3)\n",
            "Requirement already satisfied: charset-normalizer<4,>=2 in /usr/local/lib/python3.11/dist-packages (from requests) (3.4.1)\n",
            "Requirement already satisfied: idna<4,>=2.5 in /usr/local/lib/python3.11/dist-packages (from requests) (3.10)\n",
            "Requirement already satisfied: urllib3<3,>=1.21.1 in /usr/local/lib/python3.11/dist-packages (from requests) (2.4.0)\n",
            "Requirement already satisfied: certifi>=2017.4.17 in /usr/local/lib/python3.11/dist-packages (from requests) (2025.1.31)\n"
          ]
        }
      ]
    },
    {
      "cell_type": "code",
      "source": [
        "import requests\n",
        "\n",
        "def main():\n",
        "  url = \"https://news.ycombinator.com/item?id=42919502\"\n",
        "  response = requests.get(url)\n",
        "  print(f\"Scraping: {url}\")\n",
        "  print(response)\n",
        "\n",
        "if __name__ == \"__main__\":\n",
        "  main()"
      ],
      "metadata": {
        "colab": {
          "base_uri": "https://localhost:8080/"
        },
        "id": "8PfnsZIxYp-n",
        "outputId": "108e31c9-5f20-49fd-d1c6-403c4149722a"
      },
      "execution_count": null,
      "outputs": [
        {
          "output_type": "stream",
          "name": "stdout",
          "text": [
            "Scraping: https://news.ycombinator.com/item?id=42919502\n",
            "<Response [200]>\n"
          ]
        }
      ]
    },
    {
      "cell_type": "code",
      "source": [
        "print(response.content)"
      ],
      "metadata": {
        "colab": {
          "base_uri": "https://localhost:8080/",
          "height": 141
        },
        "id": "gu6SMe8JYt73",
        "outputId": "8d1ccd49-484f-43e1-b380-86fd7a0c0e4c"
      },
      "execution_count": null,
      "outputs": [
        {
          "output_type": "error",
          "ename": "NameError",
          "evalue": "name 'response' is not defined",
          "traceback": [
            "\u001b[0;31m---------------------------------------------------------------------------\u001b[0m",
            "\u001b[0;31mNameError\u001b[0m                                 Traceback (most recent call last)",
            "\u001b[0;32m<ipython-input-13-93569ab5a078>\u001b[0m in \u001b[0;36m<cell line: 0>\u001b[0;34m()\u001b[0m\n\u001b[0;32m----> 1\u001b[0;31m \u001b[0mprint\u001b[0m\u001b[0;34m(\u001b[0m\u001b[0mresponse\u001b[0m\u001b[0;34m.\u001b[0m\u001b[0mcontent\u001b[0m\u001b[0;34m)\u001b[0m\u001b[0;34m\u001b[0m\u001b[0;34m\u001b[0m\u001b[0m\n\u001b[0m",
            "\u001b[0;31mNameError\u001b[0m: name 'response' is not defined"
          ]
        }
      ]
    },
    {
      "cell_type": "markdown",
      "source": [
        "the changes"
      ],
      "metadata": {
        "id": "nqc1fJA5Y1KX"
      }
    },
    {
      "cell_type": "code",
      "source": [
        "pip install beautifulsoup4"
      ],
      "metadata": {
        "colab": {
          "base_uri": "https://localhost:8080/"
        },
        "id": "sGLX-mcnY2Pf",
        "outputId": "5bdbf76e-f109-4924-9e55-de61d212b922"
      },
      "execution_count": null,
      "outputs": [
        {
          "output_type": "stream",
          "name": "stdout",
          "text": [
            "Requirement already satisfied: beautifulsoup4 in /usr/local/lib/python3.11/dist-packages (4.13.4)\n",
            "Requirement already satisfied: soupsieve>1.2 in /usr/local/lib/python3.11/dist-packages (from beautifulsoup4) (2.7)\n",
            "Requirement already satisfied: typing-extensions>=4.0.0 in /usr/local/lib/python3.11/dist-packages (from beautifulsoup4) (4.13.2)\n"
          ]
        }
      ]
    },
    {
      "cell_type": "code",
      "source": [
        "import requests\n",
        "from bs4 import BeautifulSoup\n",
        "\n",
        "def main():\n",
        "  url = \"https://news.ycombinator.com/item?id=42919502\"\n",
        "  response = requests.get(url)\n",
        "\n",
        "  soup = BeautifulSoup(response.content, \"html.parser\")\n",
        "  # find all elements with class=\"comment\"\n",
        "  elements = soup.find_all(class_=\"comment\")\n",
        "\n",
        "  # Show the number of elementd found\n",
        "  print(f\"Elements: {len(elements)}\")\n",
        "\n",
        "if __name__ == \"__main__\":\n",
        "  main()"
      ],
      "metadata": {
        "colab": {
          "base_uri": "https://localhost:8080/"
        },
        "id": "b82K-ONSY7d3",
        "outputId": "2106c106-804c-43f9-84a1-13e79a394bb8"
      },
      "execution_count": null,
      "outputs": [
        {
          "output_type": "stream",
          "name": "stdout",
          "text": [
            "Elements: 637\n"
          ]
        }
      ]
    },
    {
      "cell_type": "code",
      "source": [
        "import requests\n",
        "from bs4 import BeautifulSoup\n",
        "\n",
        "def main():\n",
        "  url = \"https://news.ycombinator.com/item?id=42919502\"\n",
        "  response = requests.get(url)\n",
        "\n",
        "  soup = BeautifulSoup(response.content, \"html.parser\")\n",
        "  # find all elements with class=\"ind\" and indent level = 0\n",
        "  elements = soup.find_all(class_=\"ind\" , indent=0)\n",
        "  # for each of this elements, find the next element\n",
        "  comments = [e.find_next(class_=\"comment\") for e in elements]\n",
        "\n",
        "  # Show the number of comments found\n",
        "  print(f\"Comments: {len(comments)}\")\n",
        "\n",
        "if __name__ == \"__main__\":\n",
        "  main()"
      ],
      "metadata": {
        "colab": {
          "base_uri": "https://localhost:8080/"
        },
        "id": "al697ZlEY_vP",
        "outputId": "ad363473-e907-4786-d067-df3bf8dd4390"
      },
      "execution_count": null,
      "outputs": [
        {
          "output_type": "stream",
          "name": "stdout",
          "text": [
            "Comments: 411\n"
          ]
        }
      ]
    },
    {
      "cell_type": "markdown",
      "source": [
        "Replace  print(f\"Comments: {len(comments)}\") with for comment in comments:\n",
        "  print(comment)"
      ],
      "metadata": {
        "id": "BLPliJWNZITP"
      }
    },
    {
      "cell_type": "code",
      "source": [
        "import requests\n",
        "from bs4 import BeautifulSoup\n",
        "\n",
        "def main():\n",
        "  url = \"https://news.ycombinator.com/item?id=42919502\"\n",
        "  response = requests.get(url)\n",
        "\n",
        "  soup = BeautifulSoup(response.content, \"html.parser\")\n",
        "  # find all elements with class=\"ind\" and indent level = 0\n",
        "  elements = soup.find_all(class_=\"ind\" , indent=0)\n",
        "  # for each of this elements, find the next element\n",
        "  comments = [e.find_next(class_=\"comment\") for e in elements]\n",
        "\n",
        "  # Show the number of comments found\n",
        "  for comment in comments:\n",
        "    print(comment) # Indented this line to be part of the for loop\n",
        "\n",
        "if __name__ == \"__main__\":\n",
        "  main()"
      ],
      "metadata": {
        "colab": {
          "base_uri": "https://localhost:8080/"
        },
        "collapsed": true,
        "id": "oV7yXnJ8ZHw_",
        "outputId": "dffde1d0-eec4-4a54-b47d-87ded3bb5a63"
      },
      "execution_count": null,
      "outputs": [
        {
          "output_type": "stream",
          "name": "stdout",
          "text": [
            
    {
      "cell_type": "code",
      "source": [],
      "metadata": {
        "colab": {
          "base_uri": "https://localhost:8080/"
        },
        "id": "GvVgR-kgZj4u",
        "outputId": "daec0220-ddbc-4dda-df65-272c4a676e59"
      },
      "execution_count": null,
      "outputs": [
        {
          "output_type": "stream",
          "name": "stdout",
          "text": [
            "Requirement already satisfied: matplotlib in /usr/local/lib/python3.11/dist-packages (3.10.0)\n",
            "Requirement already satisfied: contourpy>=1.0.1 in /usr/local/lib/python3.11/dist-packages (from matplotlib) (1.3.2)\n",
            "Requirement already satisfied: cycler>=0.10 in /usr/local/lib/python3.11/dist-packages (from matplotlib) (0.12.1)\n",
            "Requirement already satisfied: fonttools>=4.22.0 in /usr/local/lib/python3.11/dist-packages (from matplotlib) (4.57.0)\n",
            "Requirement already satisfied: kiwisolver>=1.3.1 in /usr/local/lib/python3.11/dist-packages (from matplotlib) (1.4.8)\n",
            "Requirement already satisfied: numpy>=1.23 in /usr/local/lib/python3.11/dist-packages (from matplotlib) (2.0.2)\n",
            "Requirement already satisfied: packaging>=20.0 in /usr/local/lib/python3.11/dist-packages (from matplotlib) (24.2)\n",
            "Requirement already satisfied: pillow>=8 in /usr/local/lib/python3.11/dist-packages (from matplotlib) (11.2.1)\n",
            "Requirement already satisfied: pyparsing>=2.3.1 in /usr/local/lib/python3.11/dist-packages (from matplotlib) (3.2.3)\n",
            "Requirement already satisfied: python-dateutil>=2.7 in /usr/local/lib/python3.11/dist-packages (from matplotlib) (2.9.0.post0)\n",
            "Requirement already satisfied: six>=1.5 in /usr/local/lib/python3.11/dist-packages (from python-dateutil>=2.7->matplotlib) (1.17.0)\n"
          ]
        }
      ]
    },
    {
      "cell_type": "code",
      "source": [
        "import matplotlib.pyplot as plt # import the pyplot module and alias it as plt\n",
        "\n",
        "import requests\n",
        "from bs4 import BeautifulSoup\n",
        "\n",
        "# Define keywords outside of the function to make it globally accessible\n",
        "keywords = {\"python\": 0, \"javascript\": 0, \"typescript\": 0, \"go\": 0, \"c#\": 0, \"java\": 0, \"rust\": 0}\n",
        "\n",
        "def main():\n",
        "    url = \"https://news.ycombinator.com/item?id=42919502\"\n",
        "    response = requests.get(url)\n",
        "\n",
        "    soup = BeautifulSoup(response.content, \"html.parser\")\n",
        "    # find all elements with class=\"ind\" and indent level = 0\n",
        "    elements = soup.find_all(class_=\"ind\", indent=0)\n",
        "    # for each of this elements, find the next element\n",
        "    comments = [e.find_next(class_=\"comment\") for e in elements]\n",
        "\n",
        "    # Access the global keywords variable\n",
        "    global keywords\n",
        "\n",
        "    # show each comment (job post)\n",
        "    for comment in comments:\n",
        "        # get the comment text and lower case it\n",
        "        comment_text = comment.get_text().lower()\n",
        "\n",
        "        # split comment by space which create an array of words\n",
        "        words = comment_text.split(\" \")\n",
        "\n",
        "        # Iterate over keywords and count occurrences\n",
        "        for keyword in keywords:\n",
        "            keywords[keyword] += words.count(keyword)\n",
        "\n",
        "\n",
        "if __name__ == \"__main__\":\n",
        "    main()\n",
        "\n",
        "# plot a bar graph after calling main() to populate keywords\n",
        "plt.bar(keywords.keys(), keywords.values())\n",
        "# Add labels\n",
        "plt.xlabel(\"Language\")\n",
        "plt.ylabel(\"# of Mentions\")\n",
        "plt.show()"
      ],
      "metadata": {
        "colab": {
          "base_uri": "https://localhost:8080/",
          "height": 449
        },
        "id": "wGX_GNYlZ6kn",
        "outputId": "91d2fc9a-92a4-4598-9741-9f9b9572ecfc"
      },
      "execution_count": null,
      "outputs": [
        {
          "output_type": "display_data",
          "data": {
            "text/plain": [
              "<Figure size 640x480 with 1 Axes>"
            ],
            "image/png": "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\n"
          },
          "metadata": {}
        }
      ]
    },
    {
      "cell_type": "code",
      "source": [
        "pip freeze > requirements.txt"
      ],
      "metadata": {
        "id": "arX7Cj3LaA2G"
      },
      "execution_count": null,
      "outputs": []
    }
  ]
}
